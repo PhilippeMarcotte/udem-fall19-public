{
 "cells": [
  {
   "cell_type": "markdown",
   "metadata": {},
   "source": [
    "# Representations, Kinematics and Dynamics\n",
    "\n",
    "Duckietown exercises for Sept 16th, 2019\n",
    "\n",
    "\n",
    "\n",
    "## 1. Frame manipulation\n",
    "\n",
    "It's emergency time in Duckietown! An earthquake shook the quiet village, and some buildings have fallen on the streets.\n",
    "\n",
    "### A. From robot to map\n",
    "You are the head of operations, and you gave to your Duckiebot a critical recognition mission: identify and place road obstacles on the map.\n",
    "\n",
    "During its mission, your Duckiebot has GPS support, and it knows its own position in the global (map) frame. \n",
    "\n",
    "It encounters its first obstacle when at position  x = 2m and y = 0.4m, and orientation theta = 110 degrees.\n",
    "The obstacle itself is at 30 cm at 30 degrees (anti-clockwise) from the Duckiebot. \n",
    "\n",
    "Where on the map frame should obstacle 1 be placed?\n"
   ]
  },
  {
   "cell_type": "code",
   "execution_count": 1,
   "metadata": {},
   "outputs": [],
   "source": [
    "### Run this cell to initialize the problem\n",
    "import numpy as np\n",
    "\n",
    "duckie_pos_g = np.array([2, 0.4])   # Position of Duckiebot in global frame\n",
    "duckie_or_g = 110                   # Orientation of Duckiebot in global frame (degrees)\n",
    "obstacle_dist_to_duckie = 0.3       # Obstacle distance to the Duckiebot\n",
    "obstacle_angle = 30                 # Obstacle angle with respect to Duckiebot"
   ]
  },
  {
   "cell_type": "markdown",
   "metadata": {},
   "source": [
    "Write your code here:"
   ]
  },
  {
   "cell_type": "code",
   "execution_count": 2,
   "metadata": {},
   "outputs": [
    {
     "name": "stdout",
     "output_type": "stream",
     "text": [
      "[1.74019238 0.55      ]\n"
     ]
    }
   ],
   "source": [
    "# Your calculations here\n",
    "inverse_obstacle_angle = 180 - obstacle_angle\n",
    "obstacle_angle_rad = np.radians(inverse_obstacle_angle)\n",
    "displacement = np.array([obstacle_dist_to_duckie*np.cos(obstacle_angle_rad), obstacle_dist_to_duckie*np.sin(obstacle_angle_rad)])\n",
    "obstacle_pos_g = duckie_pos_g + displacement    # Put your answer here instead of 0, 0 (position of obstacle in global frame)\n",
    "print(obstacle_pos_g)"
   ]
  },
  {
   "cell_type": "markdown",
   "metadata": {},
   "source": [
    "Include your answer in a text file in your submission in section 1.A of a text file: **kinematics.txt**"
   ]
  },
  {
   "cell_type": "markdown",
   "metadata": {},
   "source": [
    "### B. From the global frame to the robot's\n",
    "A concerned Duckie citizen calls you: \n",
    "\n",
    "`I can see a piece of roof on the road! It's positioned at x = 4m and y = - 1m!`\n",
    "\n",
    "This is valuable information but, to add it to your map, you need your Duckiebot to verify it. Luckily, your Duckiebot is closeby, at x = 3.5m, y = -1.2m, and oriented at theta = 45 degrees.\n",
    "You need to give a waypoint to your Duckiebot in its robot frame so that it can go and look.\n",
    "\n",
    "In the robot frame, what are the cartesian coordinates of the obstacle described by the concerned Duckie citizen?"
   ]
  },
  {
   "cell_type": "code",
   "execution_count": 3,
   "metadata": {},
   "outputs": [],
   "source": [
    "### Run this cell to initialize the problem\n",
    "\n",
    "duckie_pos_g = np.array([3.5, -1.2])   # Position of Duckiebot in global frame\n",
    "duckie_or_g = 45                       # Orientation of Duckiebot in global frame (degrees)\n",
    "obstacle_pos_g = np.array([4, -1])     # Position of obstacle in global frame"
   ]
  },
  {
   "cell_type": "markdown",
   "metadata": {},
   "source": [
    "Write your code here:"
   ]
  },
  {
   "cell_type": "code",
   "execution_count": 4,
   "metadata": {},
   "outputs": [
    {
     "name": "stdout",
     "output_type": "stream",
     "text": [
      "[ 0.49497475 -0.21213203]\n"
     ]
    }
   ],
   "source": [
    "# Your calculations here\n",
    "vector_distance_obstacle_to_duckie_g = obstacle_pos_g - duckie_pos_g\n",
    "distance_obstacle_to_duckie = np.linalg.norm(vector_distance_obstacle_to_duckie_g)\n",
    "obstacle_angle_r = np.arctan(vector_distance_obstacle_to_duckie_g[1]/vector_distance_obstacle_to_duckie_g[0])\n",
    "obstacle_angle_r = np.radians(45) - obstacle_angle_r\n",
    "obstacle_pos_r = np.array([distance_obstacle_to_duckie*np.cos(obstacle_angle_r), -distance_obstacle_to_duckie*np.sin(obstacle_angle_r)])    # Put your answer here (position of obstacle in robot frame)\n",
    "print(obstacle_pos_r)"
   ]
  },
  {
   "cell_type": "markdown",
   "metadata": {},
   "source": [
    "Add your answer in section 1.B of **kinematics.txt**."
   ]
  },
  {
   "cell_type": "markdown",
   "metadata": {},
   "source": [
    "## 2. Driving\n",
    "\n",
    "Good job! All the obstacles have been detected and mapped. Now, it's time for phase 2: acting.\n",
    "Before anything, please run the cell below to get stuff working."
   ]
  },
  {
   "cell_type": "code",
   "execution_count": 78,
   "metadata": {},
   "outputs": [],
   "source": [
    "import os, sys\n",
    "module_path = os.path.abspath(os.path.join('..'))\n",
    "if module_path not in sys.path:\n",
    "    sys.path.append(module_path) \n",
    "    \n",
    "from utils.helpers import plot_poses, drive, calibrate_drive"
   ]
  },
  {
   "cell_type": "markdown",
   "metadata": {},
   "source": [
    "Now that you have run the cell above, you can continue.\n",
    "\n",
    "In order to remove the obstacles that are paralyzing Duckietown, your Duckiebot is equipped with a very special tool that can lift obstacles, but only if it is used in the right direction.\n",
    "What's more, the tool allows you to carry several obstacles at the same time - which is efficient. However, you can only give one command to the wheels between each of them...\n",
    "\n",
    "You send your Duckiebot to gather obstacle 1 at x = -3m, y = 2m and theta = 45 degrees. Obstacle 2 is at x = 0m, y = 2m and theta = -45 degrees. \n",
    "Knowing that you want to join obstacle 2 exactly 10 seconds after having gathered obstacle 1, which commands do you send to the each of the wheels?\n",
    "\n",
    "Write your values in `left_rate` and `right_rate` to test your answer. If it gets to the green arrow, you win!\n"
   ]
  },
  {
   "cell_type": "code",
   "execution_count": 185,
   "metadata": {},
   "outputs": [
    {
     "name": "stdout",
     "output_type": "stream",
     "text": [
      "1.6850549232432817 1.8517215899099482\n",
      "Goal achieved! Great job!\n"
     ]
    },
    {
     "data": {
      "image/png": "[encoded data removed]",
      "text/plain": [
       "<Figure size 432x288 with 1 Axes>"
      ]
     },
     "metadata": {
      "needs_background": "light"
     },
     "output_type": "display_data"
    }
   ],
   "source": [
    "start_pos = [-3, 2]\n",
    "cur_angle = 45          # angle in degrees\n",
    "cur_pos = start_pos\n",
    "\n",
    "wheel_dist = 0.2         # 0.2 meters of distance between the wheels\n",
    "wheel_radius = 0.03      # radius of the wheels is 0.03 meters (3 cm)\n",
    "\n",
    "dt = 0.1\n",
    "total_timesteps = 100\n",
    "\n",
    "\n",
    "####### Modify here\n",
    "distance_obstacles = np.linalg.norm(np.array([0, 2]) - start_pos)\n",
    "linear_speed = distance_obstacles / 9 / (wheel_radius * np.pi * 2)\n",
    "\n",
    "angular_speed = np.radians(-90)  / 10 / (wheel_radius * np.pi * 2)\n",
    "\n",
    "L = wheel_dist / 2\n",
    "\n",
    "right_rate = (linear_speed + L * angular_speed)\n",
    "left_rate = (linear_speed - L * angular_speed)\n",
    "\n",
    "print(right_rate, left_rate)\n",
    "\n",
    "\n",
    "#######\n",
    "\n",
    "poses = [(cur_pos, cur_angle)]\n",
    "\n",
    "for t in range(total_timesteps):\n",
    "    cur_pos, cur_angle = drive(cur_pos, cur_angle, left_rate, right_rate, wheel_dist, wheel_radius, dt)\n",
    "    poses.append((cur_pos, cur_angle))\n",
    "    \n",
    "    \n",
    "plot_poses(poses, goal = (0, 2, -45))"
   ]
  },
  {
   "cell_type": "markdown",
   "metadata": {},
   "source": [
    "Add your answer in section 2 of **kinematics.txt**."
   ]
  },
  {
   "cell_type": "markdown",
   "metadata": {},
   "source": [
    "## 3. Calibration\n",
    "\n",
    "That went well!\n",
    "But that's because the model we used is a simulation and the robot acts exactly as we tell it to act.\n",
    "In real life... each robot has its own characteristics - for each wheel, the radius and the motor power are slighly different.\n",
    "So we need to calibrate it."
   ]
  },
  {
   "cell_type": "markdown",
   "metadata": {},
   "source": [
    "In this exercise, the wheel radius, and the moter constant, of each wheel is modelled with some noise.\n",
    "Of course, your robot does not know it, and when it tries to go straight forward, it will deviate from its trajectory!\n",
    "\n",
    "To compensate this problem, adjust the gain and the trim so that the robot reaches the goal location in green - which is where it would be if the model was perfect.\n",
    "The exercise is achieved when you get a \"Goal achieved! Great job!\" appearing on your screen!"
   ]
  },
  {
   "cell_type": "code",
   "execution_count": 77,
   "metadata": {},
   "outputs": [
    {
     "name": "stdout",
     "output_type": "stream",
     "text": [
      "Goal achieved! Great job!\n"
     ]
    },
    {
     "data": {
      "image/png": "[encoded data removed]",
      "text/plain": [
       "<Figure size 432x288 with 1 Axes>"
      ]
     },
     "metadata": {
      "needs_background": "light"
     },
     "output_type": "display_data"
    }
   ],
   "source": [
    "# Pick a number, any number!\n",
    "seed = 500\n",
    "\n",
    "# Adjust these!\n",
    "gain = 1.0115\n",
    "trim = -0.03139\n",
    "\n",
    "## From here, do not change\n",
    "\n",
    "dt = 0.1\n",
    "total_timesteps = 100\n",
    "\n",
    "start_pos = [0, 0]\n",
    "cur_pos = start_pos\n",
    "cur_angle = 0\n",
    "\n",
    "poses = [(cur_pos, cur_angle)]\n",
    "\n",
    "for t in range(total_timesteps):\n",
    "    cur_pos, cur_angle = calibrate_drive(cur_pos, cur_angle, gain, trim, dt, seed)\n",
    "    poses.append((cur_pos, cur_angle))\n",
    "   \n",
    "plot_poses(poses, goal = (1.885, 0, 0), draw_line=True)"
   ]
  },
  {
   "cell_type": "markdown",
   "metadata": {},
   "source": [
    "## 4. From linear and angular velocity to wheel commands\n",
    "\n",
    "Until know, we have controlled the Duckiebot by sending it commands to control the *wheel velocities*.\n",
    "It is often more practical to directly control the robot with commands of *linear and angular velocities* of the robot.\n",
    "\n",
    "In this exercise, you will be asked to write a function that takes as arguments linear velocity `v` and angular velocity `omega` and returns the corresponding wheel angular speed `V_l` and `V_r`.\n",
    "\n",
    "In your file `notebooks/code/exercise_02_kinematics/vel2wheel.py`, complete function `vel2wheel`. You can assume that the wheels have the same radius and the motors are exactly similar. Therefore, no trim is needed.\n",
    "\n",
    "\n",
    "Setup the exercise by running this code."
   ]
  },
  {
   "cell_type": "code",
   "execution_count": 8,
   "metadata": {},
   "outputs": [],
   "source": [
    "import os, sys\n",
    "module_path = os.path.abspath(os.path.join('..'))\n",
    "if module_path not in sys.path:\n",
    "    sys.path.append(module_path) \n",
    "    \n",
    "from utils.helpers import plot_poses, drive\n",
    "from notebooks.code.exercise_02_kinematics.vel2wheel import vel2wheel"
   ]
  },
  {
   "cell_type": "markdown",
   "metadata": {},
   "source": [
    "\n",
    "To celebrate that Duckietown is now all clean thanks to you, a small parade is organized in Duckietown.\n",
    "To show off your skills, you put a paintbrush on your Duckiebot so that it creates drawings on the ground wherever it goes. You want your robot write on the ground a **D**, first letter of Duckietown. \n",
    "\n",
    "Your painting reserves will last 100 seconds of painting, and your maximal speed is 0.5 meters/seconds. The **D** should be as large as possible knowing that the curved part of the **D** should be a half-circle. \n",
    "\n",
    "Control your robot in the following code using `v` and `omega` to create the best **D** drawing possible."
   ]
  },
  {
   "cell_type": "code",
   "execution_count": 61,
   "metadata": {},
   "outputs": [
    {
     "data": {
      "image/png": "[encoded data removed]",
      "text/plain": [
       "<Figure size 432x288 with 1 Axes>"
      ]
     },
     "metadata": {
      "needs_background": "light"
     },
     "output_type": "display_data"
    }
   ],
   "source": [
    "start_pos = [0, 0]\n",
    "cur_angle = 0          # angle in degrees\n",
    "cur_pos = start_pos\n",
    "\n",
    "wheel_dist = 0.25         # 0.25 meters of distance between the wheels\n",
    "wheel_rad = 0.04     # radius of the wheels is 0.04 meters (4 cm)\n",
    "\n",
    "dt = 0.1\n",
    "total_timesteps = 1000\n",
    "\n",
    "poses = [(cur_pos, cur_angle)]\n",
    "\n",
    "max_speed = 0.5\n",
    "total_time = dt * total_timesteps\n",
    "max_diameter = total_time * max_speed / (1 + np.pi / 2)\n",
    "time_spent_on_curve_in_seconds = total_time - max_diameter / max_speed\n",
    "time_spent_on_curve_in_dt = math.ceil(time_spent_on_curve_in_seconds / dt)\n",
    "time_spent_on_curve_in_seconds = time_spent_on_curve_in_dt * dt\n",
    "for t in range(total_timesteps):\n",
    "    ### Modify code here depending on t (you can use if statements)\n",
    "    if t < time_spent_on_curve_in_dt:\n",
    "        omega = np.radians(180)/(time_spent_on_curve_in_seconds)\n",
    "        v = max_speed\n",
    "    elif t == time_spent_on_curve_in_dt:\n",
    "        omega = np.radians(90) / dt\n",
    "        v = 0\n",
    "    elif t > time_spent_on_curve_in_dt:\n",
    "        v = max_speed\n",
    "        omega = 0\n",
    "    ###\n",
    "    \n",
    "    left_rate, right_rate =  vel2wheel(v, omega, wheel_dist, wheel_rad)     #  in turns per second\n",
    "    cur_pos, cur_angle = drive(cur_pos, cur_angle, left_rate, right_rate, wheel_dist, wheel_rad, dt)\n",
    "    poses.append((cur_pos, cur_angle))\n",
    "\n",
    "plot_poses(poses)"
   ]
  },
  {
   "cell_type": "markdown",
   "metadata": {},
   "source": [
    "Include the vel2wheel code in your submission file as **vel2wheel.py**, as well as a screenshot showing the final drawing **kinematics_D_drawing.png** and the associated code in the *for* loop in section 4 of **kinematics.txt**.\n",
    "\n",
    "### Bonus\n",
    "\n",
    "If you want to be more creative and make another drawing, whether it represents a Duckie, a smiley face, or anything else, you are very welcome to add another screenshot and its associated code in **kinematics_bonus_drawing.png** and the associated code in the *for* loop in section 4.Bonus of **kinematics.txt**. It is also valid if you use more than 1000 time steps."
   ]
  },
  {
   "cell_type": "code",
   "execution_count": 190,
   "metadata": {},
   "outputs": [
    {
     "data": {
      "image/png": "[encoded data removed]",
      "text/plain": [
       "<Figure size 432x288 with 1 Axes>"
      ]
     },
     "metadata": {
      "needs_background": "light"
     },
     "output_type": "display_data"
    }
   ],
   "source": [
    "start_pos = [0, 0]\n",
    "cur_angle = 0          # angle in degrees\n",
    "cur_pos = start_pos\n",
    "\n",
    "wheel_dist = 0.25         # 0.25 meters of distance between the wheels\n",
    "wheel_rad = 0.04     # radius of the wheels is 0.04 meters (4 cm)\n",
    "\n",
    "dt = 0.1\n",
    "total_timesteps = 2628\n",
    "max_speed = 0.5\n",
    "\n",
    "poses = [(cur_pos, cur_angle)]\n",
    "\n",
    "bottom_lines = 157\n",
    "for t in range(total_timesteps):\n",
    "    ### Modify code here depending on t (you can use if statements)\n",
    "    if t == 0:\n",
    "        omega = np.radians(90) / dt\n",
    "    elif t > 0 and t < 801:\n",
    "        omega = np.radians(-180) / 80.1\n",
    "        v = max_speed\n",
    "    elif t > 800 and t < 1050:\n",
    "        v = 0.5\n",
    "        omega = 0\n",
    "    elif t == 1050:\n",
    "        v = 0\n",
    "        omega = np.radians(-90-35) / dt\n",
    "    elif t > 1050 and t < 1050 + bottom_lines:\n",
    "        v = 0.5\n",
    "        omega = 0\n",
    "    elif t == 1050 + bottom_lines:\n",
    "        omega = np.radians(70) / dt\n",
    "        v = 0\n",
    "    elif t > 1050 + bottom_lines and t < 1050 + bottom_lines * 2:\n",
    "        v = 0.50\n",
    "        omega = 0\n",
    "    elif t == 1050 + bottom_lines * 2:\n",
    "        v = 0\n",
    "        omega = np.radians(-70) / dt\n",
    "    elif t > 1050 + bottom_lines * 2 and t < 1050 + bottom_lines * 3:\n",
    "        v = 0.5\n",
    "        omega = 0\n",
    "    elif t == 1050 + bottom_lines * 3:\n",
    "        omega = np.radians(70) / dt\n",
    "        v = 0\n",
    "    elif t > 1050 + bottom_lines * 3 and t < 1050 + bottom_lines * 4:\n",
    "        v = 0.50\n",
    "        omega = 0\n",
    "    elif t == 1050 + bottom_lines * 4:\n",
    "        v = 0\n",
    "        omega = np.radians(-35-90) / dt\n",
    "    elif t > 1678 and t < 1928:\n",
    "        v = 0.5\n",
    "        omega = 0\n",
    "    # Making the eyes by cheating.\n",
    "    elif t == 1928:\n",
    "        v = 0\n",
    "        omega = np.radians(-90) / dt\n",
    "        cur_pos = [7, 0]\n",
    "    elif t > 1928 and t < 2278:\n",
    "        v = 0.5\n",
    "        omega = np.radians(360) / 35\n",
    "    elif t == 2278:\n",
    "        v = 0\n",
    "        cur_pos = [21, 0]\n",
    "    elif t > 2278 and t < 2628:\n",
    "        v = 0.5\n",
    "        omega = np.radians(360) / 35\n",
    "    else:\n",
    "        v = 0\n",
    "        omega = 0\n",
    "    \n",
    "    ###\n",
    "    \n",
    "    left_rate, right_rate =  vel2wheel(v, omega, wheel_dist, wheel_rad)     #  in turns per second\n",
    "    cur_pos, cur_angle = drive(cur_pos, cur_angle, left_rate, right_rate, wheel_dist, wheel_rad, dt)\n",
    "    poses.append((cur_pos, cur_angle))\n",
    "\n",
    "plot_poses(poses)"
   ]
  }
 ],
 "metadata": {
  "kernelspec": {
   "display_name": "Python 3",
   "language": "python",
   "name": "python3"
  },
  "language_info": {
   "codemirror_mode": {
    "name": "ipython",
    "version": 3
   },
   "file_extension": ".py",
   "mimetype": "text/x-python",
   "name": "python",
   "nbconvert_exporter": "python",
   "pygments_lexer": "ipython3",
   "version": "3.6.8"
  }
 },
 "nbformat": 4,
 "nbformat_minor": 2
}
